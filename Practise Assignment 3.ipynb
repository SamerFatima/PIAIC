{
 "cells": [
  {
   "cell_type": "markdown",
   "metadata": {},
   "source": [
    "# Q1:"
   ]
  },
  {
   "cell_type": "markdown",
   "metadata": {},
   "source": [
    "Think of at least three kinds of your favorite pizza. Store these pizza names in a list, and then use a for loop to print the name of each pizza."
   ]
  },
  {
   "cell_type": "code",
   "execution_count": 1,
   "metadata": {},
   "outputs": [
    {
     "name": "stdout",
     "output_type": "stream",
     "text": [
      "These are my favourite pizzas: \n",
      "\t* Afghani_Pizza\n",
      "\t* Tikka_Pizza\n",
      "\t* Macroni_Pizza\n"
     ]
    }
   ],
   "source": [
    "print(\"These are my favourite pizzas: \")\n",
    "pizza = [\"afghani_pizza\",\"tikka_pizza\",\"macroni_pizza\"]\n",
    "for p in pizza:\n",
    "    print(\"\\t*\",p.title())"
   ]
  },
  {
   "cell_type": "code",
   "execution_count": null,
   "metadata": {},
   "outputs": [],
   "source": []
  },
  {
   "cell_type": "markdown",
   "metadata": {},
   "source": [
    "# Q2"
   ]
  },
  {
   "cell_type": "markdown",
   "metadata": {},
   "source": [
    "Start with your last question , Modify your for loop to print a sentence using the name of the pizza\n",
    "instead of printing just the name of the pizza. For each pizza you should\n",
    "have one line of output containing a simple statement like I like pepperoni\n",
    "pizza."
   ]
  },
  {
   "cell_type": "code",
   "execution_count": 2,
   "metadata": {},
   "outputs": [
    {
     "name": "stdout",
     "output_type": "stream",
     "text": [
      "\n",
      "*I like Afghani_Pizza.*\n",
      "\n",
      "*I like Tikka_Pizza.*\n",
      "\n",
      "*I like Macroni_Pizza.*\n"
     ]
    }
   ],
   "source": [
    "pizza = [\"afghani_pizza\",\"tikka_pizza\",\"macroni_pizza\"]\n",
    "for p in pizza:\n",
    "    print(f\"\\n*I like {p.title()}.*\")"
   ]
  },
  {
   "cell_type": "code",
   "execution_count": null,
   "metadata": {},
   "outputs": [],
   "source": []
  },
  {
   "cell_type": "markdown",
   "metadata": {},
   "source": [
    "# Q3:"
   ]
  },
  {
   "cell_type": "markdown",
   "metadata": {},
   "source": [
    "Use a for loop to print the numbers from 1 to 20,\n",
    "inclusive."
   ]
  },
  {
   "cell_type": "code",
   "execution_count": 3,
   "metadata": {},
   "outputs": [
    {
     "name": "stdout",
     "output_type": "stream",
     "text": [
      "1\n",
      "2\n",
      "3\n",
      "4\n",
      "5\n",
      "6\n",
      "7\n",
      "8\n",
      "9\n",
      "10\n",
      "11\n",
      "12\n",
      "13\n",
      "14\n",
      "15\n",
      "16\n",
      "17\n",
      "18\n",
      "19\n",
      "20\n"
     ]
    }
   ],
   "source": [
    "#1\n",
    "for value in range(1,21):\n",
    "    print(value)"
   ]
  },
  {
   "cell_type": "code",
   "execution_count": 4,
   "metadata": {},
   "outputs": [
    {
     "name": "stdout",
     "output_type": "stream",
     "text": [
      "1\t2\t3\t4\t5\t6\t7\t8\t9\t10\t11\t12\t13\t14\t15\t16\t17\t18\t19\t20\t"
     ]
    }
   ],
   "source": [
    "#2\n",
    "for value in range(1,21):\n",
    "    print(value, end = \"\\t\")"
   ]
  },
  {
   "cell_type": "markdown",
   "metadata": {},
   "source": [
    "# Q4:"
   ]
  },
  {
   "cell_type": "markdown",
   "metadata": {},
   "source": [
    "Use the third argument of the range() function to make a list\n",
    "of the odd numbers from 1 to 20. Use a for loop to print each number."
   ]
  },
  {
   "cell_type": "code",
   "execution_count": 5,
   "metadata": {},
   "outputs": [
    {
     "name": "stdout",
     "output_type": "stream",
     "text": [
      "* 1\n",
      "* 3\n",
      "* 5\n",
      "* 7\n",
      "* 9\n",
      "* 11\n",
      "* 13\n",
      "* 15\n",
      "* 17\n",
      "* 19\n"
     ]
    }
   ],
   "source": [
    "for value in range(1,20,2):\n",
    "    print(\"*\",value)"
   ]
  },
  {
   "cell_type": "code",
   "execution_count": 6,
   "metadata": {},
   "outputs": [
    {
     "name": "stdout",
     "output_type": "stream",
     "text": [
      "[1, 3, 5, 7, 9, 11, 13, 15, 17, 19]\n"
     ]
    }
   ],
   "source": [
    "odd_numbers = list(range(1,20,2))\n",
    "print(odd_numbers)"
   ]
  },
  {
   "cell_type": "markdown",
   "metadata": {},
   "source": [
    "# Q5:"
   ]
  },
  {
   "cell_type": "markdown",
   "metadata": {},
   "source": [
    "Make a list of the multiples of 3 from 3 to 30. Use a for loop to\n",
    "print the numbers in your list."
   ]
  },
  {
   "cell_type": "code",
   "execution_count": 7,
   "metadata": {},
   "outputs": [
    {
     "name": "stdout",
     "output_type": "stream",
     "text": [
      "[9, 12, 15, 18, 21, 24, 27, 30, 33, 36, 39, 42, 45, 48, 51, 54, 57, 60, 63, 66, 69, 72, 75, 78, 81, 84, 87, 90]\n"
     ]
    }
   ],
   "source": [
    "#1\n",
    "multiples = [value*3 for value in range(3,31)]\n",
    "print(multiples)"
   ]
  },
  {
   "cell_type": "code",
   "execution_count": 8,
   "metadata": {},
   "outputs": [
    {
     "name": "stdout",
     "output_type": "stream",
     "text": [
      "[9, 12, 15, 18, 21, 24, 27, 30, 33, 36, 39, 42, 45, 48, 51, 54, 57, 60, 63, 66, 69, 72, 75, 78, 81, 84, 87, 90]\n"
     ]
    }
   ],
   "source": [
    "#2\n",
    "multiples = []\n",
    "for value in range(3,31):\n",
    "    multiple = value*3\n",
    "    multiples.append(multiple)\n",
    "print(multiples)"
   ]
  },
  {
   "cell_type": "code",
   "execution_count": null,
   "metadata": {},
   "outputs": [],
   "source": []
  },
  {
   "cell_type": "markdown",
   "metadata": {},
   "source": [
    "# Q6:"
   ]
  },
  {
   "cell_type": "markdown",
   "metadata": {},
   "source": [
    "A number raised to the third power is called a cube. For example,\n",
    "the cube of 2 is written as 2**3 in Python. Make a list of the first 10 cubes (that\n",
    "is, the cube of each integer from 1 through 10), and use a for loop to print out\n",
    "the value of each cube"
   ]
  },
  {
   "cell_type": "code",
   "execution_count": 9,
   "metadata": {},
   "outputs": [
    {
     "name": "stdout",
     "output_type": "stream",
     "text": [
      "[1, 8, 27, 64, 125, 216, 343, 512, 729, 1000]\n"
     ]
    }
   ],
   "source": [
    "#1\n",
    "cubes = [value**3 for value in range(1,11)]\n",
    "print(cubes)"
   ]
  },
  {
   "cell_type": "code",
   "execution_count": 10,
   "metadata": {},
   "outputs": [
    {
     "name": "stdout",
     "output_type": "stream",
     "text": [
      "[1, 8, 27, 64, 125, 216, 343, 512, 729, 1000]\n"
     ]
    }
   ],
   "source": [
    "#2\n",
    "cubes = []\n",
    "for value in range(1,11):\n",
    "    cube = value**3\n",
    "    cubes.append(cube)\n",
    "print(cubes)"
   ]
  },
  {
   "cell_type": "code",
   "execution_count": null,
   "metadata": {},
   "outputs": [],
   "source": []
  },
  {
   "cell_type": "markdown",
   "metadata": {},
   "source": [
    "# Q7:"
   ]
  },
  {
   "cell_type": "markdown",
   "metadata": {},
   "source": [
    "###### Make a python program that conatains your nine favourite dishes in a list called foods.\n",
    "\n",
    "###### Print the message, The first three items in the list are:. \n",
    "###### Then use a slice to print the first three items from that program’s list.\n",
    "\n",
    "###### Print the message, Three items from the middle of the list are:\n",
    "###### Use a slice to print three items from the middle of the list.\n",
    "\n",
    "###### Print the message, The last three items in the list are:\n",
    "###### Use a slice to print the last three items in the list."
   ]
  },
  {
   "cell_type": "code",
   "execution_count": 11,
   "metadata": {},
   "outputs": [
    {
     "name": "stdout",
     "output_type": "stream",
     "text": [
      "\t\t\t***These are my Favourite Dishes.***\n",
      "['pizza', 'burger', 'tikka', 'shorma', 'biryani', 'haleem', 'mix daal', 'mix sabzi', 'taka tak']\n",
      "\n",
      "\t\t\tThe first three items in the list are:\n",
      "['pizza', 'burger', 'tikka']\n",
      "\n",
      "\t\t\tThree items from the middle of the list are:\n",
      "['shorma', 'biryani', 'haleem']\n",
      "\n",
      "\t\t\tThe last three items in the list are:\n",
      "['mix daal', 'mix sabzi', 'taka tak']\n"
     ]
    }
   ],
   "source": [
    "print(\"\\t\\t\\t***These are my Favourite Dishes.***\")\n",
    "foods = [\"pizza\",\"burger\",\"tikka\",\"shorma\",\"biryani\",\"haleem\",\"mix daal\",\"mix sabzi\",\"taka tak\"]\n",
    "print(foods)\n",
    "\n",
    "print(\"\\n\\t\\t\\tThe first three items in the list are:\")\n",
    "print(foods[:3])\n",
    "\n",
    "print(\"\\n\\t\\t\\tThree items from the middle of the list are:\")\n",
    "print(foods[3:6])\n",
    "\n",
    "print(\"\\n\\t\\t\\tThe last three items in the list are:\")\n",
    "print(foods[6:])"
   ]
  },
  {
   "cell_type": "code",
   "execution_count": null,
   "metadata": {},
   "outputs": [],
   "source": []
  },
  {
   "cell_type": "markdown",
   "metadata": {},
   "source": [
    "# Q8:"
   ]
  },
  {
   "cell_type": "markdown",
   "metadata": {},
   "source": [
    "### Start with your program from your last Question8.\n",
    "###### Make a copy of the list of foods, and call it friend_foods.\n",
    "###### Then, do the following:\n",
    "######    Add a new dish to the original list.\n",
    "######    Add a different dish to the list friend_foodss.\n",
    "######    Prove that you have two separate lists. \n",
    "###### Print the message, My favorite pizzas are: and then use a for loop to print the first list. \n",
    "###### Print the message,\n",
    "###### My friend’s favorite foods are:, and then use a for loop to print the second list.\n",
    "    \n",
    "##### NOTE: Make sure each new dish is stored in the appropriate list."
   ]
  },
  {
   "cell_type": "code",
   "execution_count": 12,
   "metadata": {},
   "outputs": [
    {
     "name": "stdout",
     "output_type": "stream",
     "text": [
      "['pizza', 'burger', 'tikka', 'shorma', 'biryani', 'haleem', 'mix daal', 'mix sabzi', 'taka tak', 'mutton karahi']\n"
     ]
    }
   ],
   "source": [
    "my_foods = [\"pizza\",\"burger\",\"tikka\",\"shorma\",\"biryani\",\"haleem\",\"mix daal\",\"mix sabzi\",\"taka tak\"]\n",
    "my_foods.append(\"mutton karahi\")\n",
    "print(my_foods)"
   ]
  },
  {
   "cell_type": "code",
   "execution_count": 13,
   "metadata": {},
   "outputs": [
    {
     "name": "stdout",
     "output_type": "stream",
     "text": [
      "['pizza', 'burger', 'tikka', 'shorma', 'biryani', 'haleem', 'mix daal', 'mix sabzi', 'taka tak', 'chicken shashlik']\n"
     ]
    }
   ],
   "source": [
    "friend_foods = [\"pizza\",\"burger\",\"tikka\",\"shorma\",\"biryani\",\"haleem\",\"mix daal\",\"mix sabzi\",\"taka tak\"]\n",
    "friend_foods.append(\"chicken shashlik\")\n",
    "print(friend_foods)"
   ]
  },
  {
   "cell_type": "code",
   "execution_count": 14,
   "metadata": {},
   "outputs": [
    {
     "name": "stdout",
     "output_type": "stream",
     "text": [
      "['pizza', 'burger', 'tikka', 'shorma', 'biryani', 'haleem', 'mix daal', 'mix sabzi', 'taka tak', 'mutton karahi']\n",
      "['pizza', 'burger', 'tikka', 'shorma', 'biryani', 'haleem', 'mix daal', 'mix sabzi', 'taka tak', 'chicken shashlik']\n"
     ]
    }
   ],
   "source": [
    "print(my_foods)\n",
    "print(friend_foods)"
   ]
  },
  {
   "cell_type": "code",
   "execution_count": 15,
   "metadata": {},
   "outputs": [
    {
     "name": "stdout",
     "output_type": "stream",
     "text": [
      "\t\t\t**My Favourite foods are:** \n",
      "* pizza\n",
      "* burger\n",
      "* tikka\n",
      "* shorma\n",
      "* biryani\n",
      "* haleem\n",
      "* mix daal\n",
      "* mix sabzi\n",
      "* taka tak\n",
      "* mutton karahi\n"
     ]
    }
   ],
   "source": [
    "print(\"\\t\\t\\t**My Favourite foods are:** \")\n",
    "for mf in my_foods:\n",
    "    print(\"*\",mf)"
   ]
  },
  {
   "cell_type": "code",
   "execution_count": 16,
   "metadata": {},
   "outputs": [
    {
     "name": "stdout",
     "output_type": "stream",
     "text": [
      "\t\t\t**My Friend's Favourite foods are:**\n",
      "* pizza\n",
      "* burger\n",
      "* tikka\n",
      "* shorma\n",
      "* biryani\n",
      "* haleem\n",
      "* mix daal\n",
      "* mix sabzi\n",
      "* taka tak\n",
      "* chicken shashlik\n"
     ]
    }
   ],
   "source": [
    "print(\"\\t\\t\\t**My Friend's Favourite foods are:**\")\n",
    "for ff in friend_foods:\n",
    "    print(\"*\",ff)"
   ]
  },
  {
   "cell_type": "code",
   "execution_count": null,
   "metadata": {},
   "outputs": [],
   "source": []
  },
  {
   "cell_type": "markdown",
   "metadata": {},
   "source": [
    "# Q9:"
   ]
  },
  {
   "cell_type": "markdown",
   "metadata": {},
   "source": [
    "Take a user input from console line.Store it in a variable called Alien_color.\n",
    "\n",
    "If the alien’s color is red, print a statement that the player just earned 5 points for shooting the alien.\n",
    "\n",
    "If the alien’s color isn’t green, print a statement that the player just earned 10 points.\n",
    "\n",
    "If the alien's color isn't red or green , print a statment :, Alien is no more....."
   ]
  },
  {
   "cell_type": "code",
   "execution_count": 17,
   "metadata": {},
   "outputs": [
    {
     "name": "stdout",
     "output_type": "stream",
     "text": [
      "the player just earned 10 points.\n",
      "Alien is no more.....\n"
     ]
    }
   ],
   "source": [
    "alien_color = \"yellow\"\n",
    "if alien_color == \"red\":\n",
    "    print(\"the player just earned 5 points for shooting the alien.\")\n",
    "if alien_color != \"green\":\n",
    "    print(\"the player just earned 10 points.\")\n",
    "if (alien_color !=\"green\" or alien_color != \"red\"):\n",
    "    print(\"Alien is no more.....\")"
   ]
  },
  {
   "cell_type": "code",
   "execution_count": null,
   "metadata": {},
   "outputs": [],
   "source": []
  },
  {
   "cell_type": "markdown",
   "metadata": {},
   "source": [
    "# Q10:"
   ]
  },
  {
   "cell_type": "markdown",
   "metadata": {},
   "source": [
    "Write an if-elif-else chain that determines a person’s\n",
    "stage of life. Set a value for the variable age, and then:\n",
    "    \n",
    "•\t If the person is less than 2 years old, print a message that the person is a baby.\n",
    "\n",
    "•\t If the person is at least 2 years old but less than 4, print a message that the person is a toddler.\n",
    "\n",
    "•\t If the person is at least 4 years old but less than 13, print a message that the person is a kid.\n",
    "\n",
    "•\t If the person is at least 13 years old but less than 20, print a message that the person is a teenager.\n",
    "\n",
    "•\t If the person is at least 20 years old but less than 65, print a message that the person is an adult.\n",
    "\n",
    "•\t If the person is age 65 or older, print a message that the person is an elder."
   ]
  },
  {
   "cell_type": "code",
   "execution_count": 18,
   "metadata": {},
   "outputs": [
    {
     "name": "stdout",
     "output_type": "stream",
     "text": [
      "the person is a teenager.\n"
     ]
    }
   ],
   "source": [
    "age = 13\n",
    "if age < 2:\n",
    "    print(\"The person is a baby.\")\n",
    "elif age < 4:\n",
    "    print(\"the person is a toddler.\")\n",
    "elif age < 13:\n",
    "    print(\"the person is a kid.\")\n",
    "elif age < 20:\n",
    "    print(\"the person is a teenager.\")\n",
    "elif age < 65:\n",
    "    print(\"the person is an adult.\")\n",
    "else:\n",
    "    print(\"the person is an elder.\")"
   ]
  },
  {
   "cell_type": "code",
   "execution_count": null,
   "metadata": {},
   "outputs": [],
   "source": []
  },
  {
   "cell_type": "markdown",
   "metadata": {},
   "source": [
    "# Q11:"
   ]
  },
  {
   "cell_type": "markdown",
   "metadata": {},
   "source": [
    "Do the following to create a program that simulates how websites ensure that everyone has a unique username.\n",
    "\n",
    "•\t Make a list of five or more usernames called current_users.\n",
    "\n",
    "•\t Make another list of five usernames called new_users. \n",
    "Make sure one or two of the new usernames are also in the current_users list.\n",
    "\n",
    "•\t Loop through the new_users list to see if each new username has already been used. \n",
    "If it has, print a message that the person will need to enter a new username. \n",
    "If a username has not been used, print a message saying that the username is available.\n",
    "\n",
    "•\t Make sure your comparison is case insensitive. If 'John' has been used, 'JOHN' should not be accepted."
   ]
  },
  {
   "cell_type": "code",
   "execution_count": 19,
   "metadata": {},
   "outputs": [
    {
     "name": "stdout",
     "output_type": "stream",
     "text": [
      "sorry! samer that name is taken.\n",
      "Great!the username hamid is available.\n",
      "Great!the username urooj is available.\n",
      "sorry! zaheer that name is taken.\n",
      "Great!the username ifrah is available.\n"
     ]
    }
   ],
   "source": [
    "current_users = ['sarah','anum','azam','zaheer','samer']\n",
    "new_users = ['samer','hamid','urooj','zaheer','ifrah']\n",
    "\n",
    "current_users_lower = [x.lower() for x in current_users]\n",
    "new_users_lower = [x.lower() for x in new_users]\n",
    "\n",
    "for new_user in new_users_lower:\n",
    "    if new_user in current_users_lower:\n",
    "        print(\"sorry!\",new_user,\"that name is taken.\")\n",
    "    else:\n",
    "        print(\"Great!the username\",new_user, \"is available.\")"
   ]
  },
  {
   "cell_type": "code",
   "execution_count": null,
   "metadata": {},
   "outputs": [],
   "source": []
  },
  {
   "cell_type": "markdown",
   "metadata": {},
   "source": [
    "# Q12:"
   ]
  },
  {
   "cell_type": "markdown",
   "metadata": {},
   "source": [
    "Use a dictionary to store information about a person you know.\n",
    "Store their first name, last name, age, and the city in which they live. \n",
    "You should have keys such as first_name, last_name, age, and city. \n",
    "Print each piece of information stored in your dictionary"
   ]
  },
  {
   "cell_type": "code",
   "execution_count": 20,
   "metadata": {},
   "outputs": [
    {
     "name": "stdout",
     "output_type": "stream",
     "text": [
      "{'first_name': 'Zaheer', 'last_name': 'Ahmed', 'age': 30, 'city': 'Karachi'}\n"
     ]
    }
   ],
   "source": [
    "data = {\n",
    "    \"first_name\":\"Zaheer\",\n",
    "    \"last_name\":\"Ahmed\",\n",
    "    \"age\":30,\n",
    "    \"city\":\"Karachi\",\n",
    "}\n",
    "print(data)"
   ]
  },
  {
   "cell_type": "code",
   "execution_count": 21,
   "metadata": {},
   "outputs": [
    {
     "name": "stdout",
     "output_type": "stream",
     "text": [
      "Zaheer\n",
      "Ahmed\n",
      "30\n",
      "Karachi\n"
     ]
    }
   ],
   "source": [
    "print(data[\"first_name\"])\n",
    "print(data[\"last_name\"])\n",
    "print(data[\"age\"])\n",
    "print(data[\"city\"])"
   ]
  },
  {
   "cell_type": "code",
   "execution_count": null,
   "metadata": {},
   "outputs": [],
   "source": []
  },
  {
   "cell_type": "markdown",
   "metadata": {},
   "source": [
    "# Q13:"
   ]
  },
  {
   "cell_type": "markdown",
   "metadata": {},
   "source": [
    "Starts with your last question 12 , loop through the dictionary’s keys and values.\n",
    "When you’re sure that your loop works, add five more Python terms to your\n",
    "dictionary . When you run your program again, these new words and meanings\n",
    "should automatically be included in the output."
   ]
  },
  {
   "cell_type": "code",
   "execution_count": 22,
   "metadata": {},
   "outputs": [
    {
     "name": "stdout",
     "output_type": "stream",
     "text": [
      "\n",
      "key: first_name\n",
      "value: Zaheer\n",
      "\n",
      "key: last_name\n",
      "value: Ahmed\n",
      "\n",
      "key: age\n",
      "value: 30\n",
      "\n",
      "key: city\n",
      "value: Karachi\n"
     ]
    }
   ],
   "source": [
    "data = {\n",
    "    \"first_name\":\"Zaheer\",\n",
    "    \"last_name\":\"Ahmed\",\n",
    "    \"age\":30,\n",
    "    \"city\":\"Karachi\",\n",
    "}\n",
    "\n",
    "for keys,values in data.items():\n",
    "    print(\"\\nkey:\",keys)\n",
    "    print(\"value:\",values)"
   ]
  },
  {
   "cell_type": "code",
   "execution_count": 23,
   "metadata": {},
   "outputs": [
    {
     "name": "stdout",
     "output_type": "stream",
     "text": [
      "\n",
      "key:first_name\n",
      "value:Zaheer\n",
      "\n",
      "key:last_name\n",
      "value:Ahmed\n",
      "\n",
      "key:age\n",
      "value:30\n",
      "\n",
      "key:city\n",
      "value:Karachi\n",
      "\n",
      "key:string\n",
      "value:A series of characters.\n",
      "\n",
      "key:comment\n",
      "value:A note in a program that the Python interpreter ignores.\n",
      "\n",
      "key:list\n",
      "value:A collection of items in a particular order.\n",
      "\n",
      "key:loop\n",
      "value:Work through a collection of items, one at a time.\n",
      "\n",
      "key:dictionary\n",
      "value:A collection of key-value pairs.\n"
     ]
    }
   ],
   "source": [
    "data = {\n",
    "    \"first_name\":\"Zaheer\",\n",
    "    \"last_name\":\"Ahmed\",\n",
    "    \"age\":\"30\",\n",
    "    \"city\":\"Karachi\",\n",
    "    \n",
    "    'string': 'A series of characters.',\n",
    "    'comment': 'A note in a program that the Python interpreter ignores.',\n",
    "    'list': 'A collection of items in a particular order.',\n",
    "    'loop': 'Work through a collection of items, one at a time.',\n",
    "    'dictionary': \"A collection of key-value pairs.\",\n",
    "}\n",
    "\n",
    "for keys,values in data.items():\n",
    "    print(\"\\nkey:\" + keys)\n",
    "    print(\"value:\" + values)"
   ]
  },
  {
   "cell_type": "code",
   "execution_count": null,
   "metadata": {},
   "outputs": [],
   "source": []
  },
  {
   "cell_type": "markdown",
   "metadata": {},
   "source": [
    "# Q14:"
   ]
  },
  {
   "cell_type": "markdown",
   "metadata": {},
   "source": [
    "Make a dictionary containing three major rivers and the country\n",
    "each river runs through. One key-value pair might be 'nile': 'egypt'.\n",
    "    \n",
    "    \n",
    "•\t Use a loop to print a sentence about each river, such as The Nile runs\n",
    "through Egypt.\n",
    "\n",
    "NOTE: use upper case through keys and values."
   ]
  },
  {
   "cell_type": "code",
   "execution_count": 24,
   "metadata": {},
   "outputs": [
    {
     "name": "stdout",
     "output_type": "stream",
     "text": [
      "\n",
      "The NEELUM runs through PAKISTAN.\n",
      "\n",
      "The GANGA runs through INDIA.\n",
      "\n",
      "The KABUL runs through AFGHANISTAN.\n"
     ]
    }
   ],
   "source": [
    "rivers = {\n",
    "    \"neelum\":\"pakistan\",\n",
    "    \"ganga\":\"india\",\n",
    "    \"kabul\":\"afghanistan\",\n",
    "}\n",
    "for k,v  in rivers.items():\n",
    "    print(\"\\nThe\" + \" \" + k.upper() + \" \" + \"runs through\" + \" \" + v.upper()+ \".\")"
   ]
  },
  {
   "cell_type": "code",
   "execution_count": null,
   "metadata": {},
   "outputs": [],
   "source": []
  },
  {
   "cell_type": "markdown",
   "metadata": {},
   "source": [
    "# Q15:"
   ]
  },
  {
   "cell_type": "markdown",
   "metadata": {},
   "source": [
    "Make several dictionaries, where the name of each dictionary is the\n",
    "name of a pet. In each dictionary, include the kind of animal and the owner’s\n",
    "name. Store these dictionaries in a list called pets. Next, loop through your list\n",
    "and as you do print everything you know about each pet."
   ]
  },
  {
   "cell_type": "code",
   "execution_count": 25,
   "metadata": {},
   "outputs": [
    {
     "name": "stdout",
     "output_type": "stream",
     "text": [
      "{'pet_type': 'cat', 'name': 'maano', 'owner_name': 'bushra', 'color': 'white'}\n",
      "{'pet_type': 'dog', 'name': 'roshi', 'owner_name': 'zahid', 'color': 'black'}\n",
      "{'pet_type': 'parrot', 'name': 'mithoo', 'owner_name': 'zaheeer', 'color': 'green'}\n"
     ]
    }
   ],
   "source": [
    "cat = {\n",
    "    \"pet_type\":\"cat\",\n",
    "    \"name\":\"maano\",\n",
    "    \"owner_name\":\"bushra\",\n",
    "    \"color\":\"white\",\n",
    "}\n",
    "\n",
    "dog = {\n",
    "    \"pet_type\":\"dog\",\n",
    "    \"name\":\"roshi\",\n",
    "    \"owner_name\":\"zahid\",\n",
    "    \"color\":\"black\",\n",
    "}\n",
    "\n",
    "parrot = {\n",
    "    \"pet_type\":\"parrot\",\n",
    "    \"name\":\"mithoo\",\n",
    "    \"owner_name\":\"zaheeer\",\n",
    "    \"color\":\"green\",\n",
    "}\n",
    "\n",
    "pets = [cat , dog , parrot]\n",
    "for pet in pets:\n",
    "    print(pet)"
   ]
  },
  {
   "cell_type": "code",
   "execution_count": 26,
   "metadata": {},
   "outputs": [
    {
     "name": "stdout",
     "output_type": "stream",
     "text": [
      "\n",
      "Pet_Type:  \"Cat\".\n",
      "\n",
      "Name:  \"Maano\".\n",
      "\n",
      "Owner_Name:  \"Bushra\".\n",
      "\n",
      "Color:  \"White\".\n",
      "\n",
      "***********\n",
      "\n",
      "Pet_Type:  \"Dog\".\n",
      "\n",
      "Name:  \"Roshi\".\n",
      "\n",
      "Owner_Name:  \"Zahid\".\n",
      "\n",
      "Color:  \"Black\".\n",
      "\n",
      "***********\n",
      "\n",
      "Pet_Type:  \"Parrot\".\n",
      "\n",
      "Name:  \"Mithoo\".\n",
      "\n",
      "Owner_Name:  \"Zaheeer\".\n",
      "\n",
      "Color:  \"Green\".\n",
      "\n",
      "***********\n"
     ]
    }
   ],
   "source": [
    "for k,v in cat.items():\n",
    "    print(\"\\n\" + k.title() + \":  \\\"\" + v.title() + \"\\\".\")\n",
    "print(\"\\n***********\")\n",
    "\n",
    "for k,v in dog.items():\n",
    "    print(\"\\n\" + k.title() + \":  \\\"\" + v.title() + \"\\\".\")\n",
    "print(\"\\n***********\")\n",
    "\n",
    "for k,v in parrot.items():\n",
    "    print(\"\\n\" + k.title() + \":  \\\"\" + v.title() + \"\\\".\")\n",
    "print(\"\\n***********\")"
   ]
  },
  {
   "cell_type": "code",
   "execution_count": null,
   "metadata": {},
   "outputs": [],
   "source": []
  }
 ],
 "metadata": {
  "kernelspec": {
   "display_name": "Python 3",
   "language": "python",
   "name": "python3"
  },
  "language_info": {
   "codemirror_mode": {
    "name": "ipython",
    "version": 3
   },
   "file_extension": ".py",
   "mimetype": "text/x-python",
   "name": "python",
   "nbconvert_exporter": "python",
   "pygments_lexer": "ipython3",
   "version": "3.7.3"
  }
 },
 "nbformat": 4,
 "nbformat_minor": 2
}
